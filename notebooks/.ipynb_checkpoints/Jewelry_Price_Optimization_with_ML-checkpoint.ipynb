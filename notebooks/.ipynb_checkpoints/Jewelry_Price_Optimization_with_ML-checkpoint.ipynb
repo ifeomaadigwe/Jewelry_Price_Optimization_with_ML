{
 "cells": [
  {
   "cell_type": "markdown",
   "id": "be953ee3-6d36-42ff-961e-b38be4a5815a",
   "metadata": {},
   "source": [
    "## Project Title: Jewelry Price Optimization with ML"
   ]
  },
  {
   "cell_type": "markdown",
   "id": "00700fe3-786c-4151-8f10-2a6cb242ea30",
   "metadata": {},
   "source": [
    "##### Client: Gemineye\n",
    "##### Domain: Retail – Luxury Goods & E-commerce\n",
    "##### Objective: To develop a predictive pricing model for jewelry items based on product attributes and historical sales data using machine learning."
   ]
  },
  {
   "cell_type": "markdown",
   "id": "aaccec6d-9697-4dc2-8157-d7b336b875dc",
   "metadata": {},
   "source": [
    "#### Introduction:\n",
    "Gemineye is a premium jewelry brand specializing in customized and ready-to-sell products featuring diverse materials such as gold, silver, diamonds, and precious gems. With increasing competition in the luxury retail space, the company seeks to implement data-driven pricing mechanisms to optimize profitability without compromising on brand perception.\n",
    "\n",
    "Jewelry pricing is traditionally determined through manual markup models or subjective expert judgment, which may not consistently reflect real-time market dynamics, customer preferences, or inventory pressure. This project aims to replace static pricing methods with a dynamic machine learning-based model capable of adjusting and recommending prices based on product features, market trends, and historical data.\n",
    "\n",
    "##### Business Goals:\n",
    "- Identify the key features that influence jewelry prices.\n",
    "- Build a predictive model to estimate optimal pricing for new or existing products.\n",
    "- Support data-driven decision-making for pricing, promotions, and inventory planning.\n",
    "- Improve revenue and customer satisfaction by aligning prices with market expectations and perceived product value."
   ]
  },
  {
   "cell_type": "markdown",
   "id": "70dcbeea-f4ec-4b1a-adf0-ba23a49ab865",
   "metadata": {},
   "source": [
    "##### Stakeholders Expectations:\n",
    "This project involves multiple stakeholders, each with distinct roles and expectations. \n",
    "- Head of Pricing Strategy: Seeks actionable price recommendations based on predictive modeling.\n",
    "- Sales & Marketing Director: Expects insights on which features influence perceived value.\n",
    "- Data Science Team\t: Require a maintainable, trackable pipeline with performance benchmarks.\n",
    "- Executive Leadership:\tInterested in ROI through pricing accuracy and improved revenue margins."
   ]
  },
  {
   "cell_type": "markdown",
   "id": "785fd072-8154-4c72-b5e9-dc2d31ebcbad",
   "metadata": {},
   "source": [
    "##### Dataset Description:\n",
    "* Order datetime -\tDate product was ordered\n",
    "* Order ID - Identifier for order\n",
    "* Purchased product ID - Identifier for product ordered\n",
    "* Quantity of SKU in the order - Amount of stock keeping unit ordered\n",
    "* Category ID\t- Jewelry category identifier\n",
    "* Category alias -Jewelry category\n",
    "* Brand ID - Brand identifier\n",
    "* Price in USD\t-Jewelry price\n",
    "* User ID\t- User identifier\n",
    "* Product gender (for male/female) -Target gender for product\n",
    "* Main Color - Main color of the jewelry piece\n",
    "* Main metal - The main metal used for mounting of the piece\n",
    "* Main gem - What gem type mounted on the jewelry piece"
   ]
  },
  {
   "cell_type": "code",
   "execution_count": null,
   "id": "0965a4e2-f988-4bc9-9a36-b78aa0ab0890",
   "metadata": {},
   "outputs": [],
   "source": []
  },
  {
   "cell_type": "code",
   "execution_count": 51,
   "id": "6d1b0176-aa24-4167-a25c-070d4aabee44",
   "metadata": {},
   "outputs": [],
   "source": [
    "# Import all necessary libraries\n",
    "\n",
    "import pandas as pd\n",
    "import numpy as np\n",
    "import seaborn as sns\n",
    "import matplotlib.pyplot as plt\n",
    "#from sklearn.model_selection import train_test_split \n",
    "#from sklearn import metrics\n",
    "from datetime import datetime\n",
    "#from sklearn.metrics import r2_score\n",
    "#from sklearn.metrics import confusion_matrix\n",
    "#from sklearn.metrics import mean_absolute_error, mean_squared_error"
   ]
  },
  {
   "cell_type": "code",
   "execution_count": 52,
   "id": "7a5a9fbd-c1ff-45cd-bda2-a56a98d08f5e",
   "metadata": {},
   "outputs": [
    {
     "name": "stdout",
     "output_type": "stream",
     "text": [
      "C:\\Users\\IfeomaAugustaAdigwe\\Desktop\\JewlryPriceOptimisation\\notebooks\n"
     ]
    }
   ],
   "source": [
    "import os\n",
    "print(os.getcwd())"
   ]
  },
  {
   "cell_type": "markdown",
   "id": "4934f63a-060f-4ed4-abfa-83bd6bf4ef5f",
   "metadata": {},
   "source": [
    "### The Jewelry Dataset"
   ]
  },
  {
   "cell_type": "code",
   "execution_count": 53,
   "id": "d497cd7f-a362-4429-b86d-60615fd05c68",
   "metadata": {},
   "outputs": [
    {
     "data": {
      "text/html": [
       "<div>\n",
       "<style scoped>\n",
       "    .dataframe tbody tr th:only-of-type {\n",
       "        vertical-align: middle;\n",
       "    }\n",
       "\n",
       "    .dataframe tbody tr th {\n",
       "        vertical-align: top;\n",
       "    }\n",
       "\n",
       "    .dataframe thead th {\n",
       "        text-align: right;\n",
       "    }\n",
       "</style>\n",
       "<table border=\"1\" class=\"dataframe\">\n",
       "  <thead>\n",
       "    <tr style=\"text-align: right;\">\n",
       "      <th></th>\n",
       "      <th>0</th>\n",
       "      <th>1</th>\n",
       "      <th>2</th>\n",
       "      <th>3</th>\n",
       "      <th>4</th>\n",
       "      <th>5</th>\n",
       "      <th>6</th>\n",
       "      <th>7</th>\n",
       "      <th>8</th>\n",
       "      <th>9</th>\n",
       "      <th>10</th>\n",
       "      <th>11</th>\n",
       "      <th>12</th>\n",
       "    </tr>\n",
       "  </thead>\n",
       "  <tbody>\n",
       "    <tr>\n",
       "      <th>0</th>\n",
       "      <td>2018-12-01 11:40:29 UTC</td>\n",
       "      <td>1924719191579951782</td>\n",
       "      <td>1842195256808833386</td>\n",
       "      <td>1</td>\n",
       "      <td>1.806829e+18</td>\n",
       "      <td>jewelry.earring</td>\n",
       "      <td>0.0</td>\n",
       "      <td>561.51</td>\n",
       "      <td>1.515916e+18</td>\n",
       "      <td>NaN</td>\n",
       "      <td>red</td>\n",
       "      <td>gold</td>\n",
       "      <td>diamond</td>\n",
       "    </tr>\n",
       "    <tr>\n",
       "      <th>1</th>\n",
       "      <td>2018-12-01 17:38:31 UTC</td>\n",
       "      <td>1924899396621697920</td>\n",
       "      <td>1806829193678291446</td>\n",
       "      <td>1</td>\n",
       "      <td>1.806829e+18</td>\n",
       "      <td>NaN</td>\n",
       "      <td>NaN</td>\n",
       "      <td>212.14</td>\n",
       "      <td>1.515916e+18</td>\n",
       "      <td>NaN</td>\n",
       "      <td>yellow</td>\n",
       "      <td>gold</td>\n",
       "      <td>NaN</td>\n",
       "    </tr>\n",
       "    <tr>\n",
       "      <th>2</th>\n",
       "      <td>2018-12-02 13:53:42 UTC</td>\n",
       "      <td>1925511016616034733</td>\n",
       "      <td>1842214461889315556</td>\n",
       "      <td>1</td>\n",
       "      <td>1.806829e+18</td>\n",
       "      <td>jewelry.pendant</td>\n",
       "      <td>1.0</td>\n",
       "      <td>54.66</td>\n",
       "      <td>1.515916e+18</td>\n",
       "      <td>f</td>\n",
       "      <td>white</td>\n",
       "      <td>gold</td>\n",
       "      <td>sapphire</td>\n",
       "    </tr>\n",
       "  </tbody>\n",
       "</table>\n",
       "</div>"
      ],
      "text/plain": [
       "                        0                    1                    2   3   \\\n",
       "0  2018-12-01 11:40:29 UTC  1924719191579951782  1842195256808833386   1   \n",
       "1  2018-12-01 17:38:31 UTC  1924899396621697920  1806829193678291446   1   \n",
       "2  2018-12-02 13:53:42 UTC  1925511016616034733  1842214461889315556   1   \n",
       "\n",
       "             4                5    6       7             8    9       10  \\\n",
       "0  1.806829e+18  jewelry.earring  0.0  561.51  1.515916e+18  NaN     red   \n",
       "1  1.806829e+18              NaN  NaN  212.14  1.515916e+18  NaN  yellow   \n",
       "2  1.806829e+18  jewelry.pendant  1.0   54.66  1.515916e+18    f   white   \n",
       "\n",
       "     11        12  \n",
       "0  gold   diamond  \n",
       "1  gold       NaN  \n",
       "2  gold  sapphire  "
      ]
     },
     "execution_count": 53,
     "metadata": {},
     "output_type": "execute_result"
    }
   ],
   "source": [
    "# import the dataset\n",
    "\n",
    "data = pd.read_csv('../data/Jewelry_Dataset.csv', header=None)\n",
    "data.head(3)"
   ]
  },
  {
   "cell_type": "code",
   "execution_count": 54,
   "id": "e39e2e7c-fbe3-449b-a411-0bcbc0d1d2be",
   "metadata": {},
   "outputs": [
    {
     "data": {
      "text/html": [
       "<div>\n",
       "<style scoped>\n",
       "    .dataframe tbody tr th:only-of-type {\n",
       "        vertical-align: middle;\n",
       "    }\n",
       "\n",
       "    .dataframe tbody tr th {\n",
       "        vertical-align: top;\n",
       "    }\n",
       "\n",
       "    .dataframe thead th {\n",
       "        text-align: right;\n",
       "    }\n",
       "</style>\n",
       "<table border=\"1\" class=\"dataframe\">\n",
       "  <thead>\n",
       "    <tr style=\"text-align: right;\">\n",
       "      <th></th>\n",
       "      <th>Order datetime</th>\n",
       "      <th>Order ID</th>\n",
       "      <th>Purchased product ID</th>\n",
       "      <th>Quantity of SKU</th>\n",
       "      <th>Category ID</th>\n",
       "      <th>Category alias</th>\n",
       "      <th>Brand ID</th>\n",
       "      <th>Price in USD</th>\n",
       "      <th>User ID</th>\n",
       "      <th>Product gender</th>\n",
       "      <th>Main Color</th>\n",
       "      <th>Main metal</th>\n",
       "      <th>Main gem</th>\n",
       "    </tr>\n",
       "  </thead>\n",
       "  <tbody>\n",
       "    <tr>\n",
       "      <th>0</th>\n",
       "      <td>2018-12-01 11:40:29 UTC</td>\n",
       "      <td>1924719191579951782</td>\n",
       "      <td>1842195256808833386</td>\n",
       "      <td>1</td>\n",
       "      <td>1.806829e+18</td>\n",
       "      <td>jewelry.earring</td>\n",
       "      <td>0.0</td>\n",
       "      <td>561.51</td>\n",
       "      <td>1.515916e+18</td>\n",
       "      <td>NaN</td>\n",
       "      <td>red</td>\n",
       "      <td>gold</td>\n",
       "      <td>diamond</td>\n",
       "    </tr>\n",
       "    <tr>\n",
       "      <th>1</th>\n",
       "      <td>2018-12-01 17:38:31 UTC</td>\n",
       "      <td>1924899396621697920</td>\n",
       "      <td>1806829193678291446</td>\n",
       "      <td>1</td>\n",
       "      <td>1.806829e+18</td>\n",
       "      <td>NaN</td>\n",
       "      <td>NaN</td>\n",
       "      <td>212.14</td>\n",
       "      <td>1.515916e+18</td>\n",
       "      <td>NaN</td>\n",
       "      <td>yellow</td>\n",
       "      <td>gold</td>\n",
       "      <td>NaN</td>\n",
       "    </tr>\n",
       "    <tr>\n",
       "      <th>2</th>\n",
       "      <td>2018-12-02 13:53:42 UTC</td>\n",
       "      <td>1925511016616034733</td>\n",
       "      <td>1842214461889315556</td>\n",
       "      <td>1</td>\n",
       "      <td>1.806829e+18</td>\n",
       "      <td>jewelry.pendant</td>\n",
       "      <td>1.0</td>\n",
       "      <td>54.66</td>\n",
       "      <td>1.515916e+18</td>\n",
       "      <td>f</td>\n",
       "      <td>white</td>\n",
       "      <td>gold</td>\n",
       "      <td>sapphire</td>\n",
       "    </tr>\n",
       "  </tbody>\n",
       "</table>\n",
       "</div>"
      ],
      "text/plain": [
       "            Order datetime             Order ID  Purchased product ID  \\\n",
       "0  2018-12-01 11:40:29 UTC  1924719191579951782   1842195256808833386   \n",
       "1  2018-12-01 17:38:31 UTC  1924899396621697920   1806829193678291446   \n",
       "2  2018-12-02 13:53:42 UTC  1925511016616034733   1842214461889315556   \n",
       "\n",
       "   Quantity of SKU   Category ID   Category alias  Brand ID  Price in USD  \\\n",
       "0                1  1.806829e+18  jewelry.earring       0.0        561.51   \n",
       "1                1  1.806829e+18              NaN       NaN        212.14   \n",
       "2                1  1.806829e+18  jewelry.pendant       1.0         54.66   \n",
       "\n",
       "        User ID Product gender Main Color Main metal  Main gem  \n",
       "0  1.515916e+18            NaN        red       gold   diamond  \n",
       "1  1.515916e+18            NaN     yellow       gold       NaN  \n",
       "2  1.515916e+18              f      white       gold  sapphire  "
      ]
     },
     "execution_count": 54,
     "metadata": {},
     "output_type": "execute_result"
    }
   ],
   "source": [
    "# Since the dataset didnt load with the correct headername, define correct column names as a list\n",
    "columns = [\n",
    "    \"Order datetime\",\n",
    "    \"Order ID\",\n",
    "    \"Purchased product ID\",\n",
    "    \"Quantity of SKU\",\n",
    "    \"Category ID\",\n",
    "    \"Category alias\",\n",
    "    \"Brand ID\",\n",
    "    \"Price in USD\",\n",
    "    \"User ID\",\n",
    "    \"Product gender\",\n",
    "    \"Main Color\",\n",
    "    \"Main metal\",\n",
    "    \"Main gem\"\n",
    "]\n",
    "\n",
    "data.columns = columns\n",
    "data.head(3)"
   ]
  },
  {
   "cell_type": "code",
   "execution_count": 55,
   "id": "e124a59c-7532-4511-833c-681a4557fa3b",
   "metadata": {},
   "outputs": [
    {
     "data": {
      "text/html": [
       "<div>\n",
       "<style scoped>\n",
       "    .dataframe tbody tr th:only-of-type {\n",
       "        vertical-align: middle;\n",
       "    }\n",
       "\n",
       "    .dataframe tbody tr th {\n",
       "        vertical-align: top;\n",
       "    }\n",
       "\n",
       "    .dataframe thead th {\n",
       "        text-align: right;\n",
       "    }\n",
       "</style>\n",
       "<table border=\"1\" class=\"dataframe\">\n",
       "  <thead>\n",
       "    <tr style=\"text-align: right;\">\n",
       "      <th></th>\n",
       "      <th>Order datetime</th>\n",
       "      <th>Order ID</th>\n",
       "      <th>Purchased product ID</th>\n",
       "      <th>Quantity of SKU</th>\n",
       "      <th>Category ID</th>\n",
       "      <th>Category alias</th>\n",
       "      <th>Brand ID</th>\n",
       "      <th>Price in USD</th>\n",
       "      <th>User ID</th>\n",
       "      <th>Product gender</th>\n",
       "      <th>Main Color</th>\n",
       "      <th>Main metal</th>\n",
       "      <th>Main gem</th>\n",
       "    </tr>\n",
       "  </thead>\n",
       "  <tbody>\n",
       "    <tr>\n",
       "      <th>95909</th>\n",
       "      <td>2021-12-01 09:55:35 UTC</td>\n",
       "      <td>2719020596963836492</td>\n",
       "      <td>1835566854106513435</td>\n",
       "      <td>1</td>\n",
       "      <td>1.806829e+18</td>\n",
       "      <td>jewelry.earring</td>\n",
       "      <td>0.0</td>\n",
       "      <td>83.42</td>\n",
       "      <td>1.515916e+18</td>\n",
       "      <td>NaN</td>\n",
       "      <td>white</td>\n",
       "      <td>gold</td>\n",
       "      <td>fianit</td>\n",
       "    </tr>\n",
       "    <tr>\n",
       "      <th>95910</th>\n",
       "      <td>2021-12-01 09:59:07 UTC</td>\n",
       "      <td>2719022379232658075</td>\n",
       "      <td>1956663846156370429</td>\n",
       "      <td>1</td>\n",
       "      <td>1.806829e+18</td>\n",
       "      <td>jewelry.pendant</td>\n",
       "      <td>1.0</td>\n",
       "      <td>97.12</td>\n",
       "      <td>1.515916e+18</td>\n",
       "      <td>NaN</td>\n",
       "      <td>red</td>\n",
       "      <td>gold</td>\n",
       "      <td>NaN</td>\n",
       "    </tr>\n",
       "  </tbody>\n",
       "</table>\n",
       "</div>"
      ],
      "text/plain": [
       "                Order datetime             Order ID  Purchased product ID  \\\n",
       "95909  2021-12-01 09:55:35 UTC  2719020596963836492   1835566854106513435   \n",
       "95910  2021-12-01 09:59:07 UTC  2719022379232658075   1956663846156370429   \n",
       "\n",
       "       Quantity of SKU   Category ID   Category alias  Brand ID  Price in USD  \\\n",
       "95909                1  1.806829e+18  jewelry.earring       0.0         83.42   \n",
       "95910                1  1.806829e+18  jewelry.pendant       1.0         97.12   \n",
       "\n",
       "            User ID Product gender Main Color Main metal Main gem  \n",
       "95909  1.515916e+18            NaN      white       gold   fianit  \n",
       "95910  1.515916e+18            NaN        red       gold      NaN  "
      ]
     },
     "execution_count": 55,
     "metadata": {},
     "output_type": "execute_result"
    }
   ],
   "source": [
    "data.tail(2)"
   ]
  },
  {
   "cell_type": "code",
   "execution_count": 56,
   "id": "e868a321-b2eb-4a69-a36b-b8390751a99c",
   "metadata": {},
   "outputs": [],
   "source": [
    "# Drop first row which contains old header\n",
    "data = data.drop(index=0).reset_index(drop=True)"
   ]
  },
  {
   "cell_type": "code",
   "execution_count": 57,
   "id": "5ecb8982-826c-4297-83ee-d06e3bacde58",
   "metadata": {},
   "outputs": [],
   "source": [
    "import warnings\n",
    "warnings.filterwarnings(\"ignore\")"
   ]
  },
  {
   "cell_type": "markdown",
   "id": "ac431b0d-6cd2-4493-8447-f83d660da5cf",
   "metadata": {},
   "source": [
    "### Data Ingestion"
   ]
  },
  {
   "cell_type": "code",
   "execution_count": 58,
   "id": "10acc658-a630-4ab6-9f2e-8aab58378962",
   "metadata": {},
   "outputs": [
    {
     "name": "stdout",
     "output_type": "stream",
     "text": [
      "Index(['Order datetime', 'Order ID', 'Purchased product ID', 'Quantity of SKU',\n",
      "       'Category ID', 'Category alias', 'Brand ID', 'Price in USD', 'User ID',\n",
      "       'Product gender', 'Main Color', 'Main metal', 'Main gem'],\n",
      "      dtype='object')\n"
     ]
    }
   ],
   "source": [
    "print(data.columns)"
   ]
  },
  {
   "cell_type": "code",
   "execution_count": 59,
   "id": "7737c324-79f3-4d9c-8132-7defddbc7b7b",
   "metadata": {},
   "outputs": [
    {
     "data": {
      "text/plain": [
       "(95910, 13)"
      ]
     },
     "execution_count": 59,
     "metadata": {},
     "output_type": "execute_result"
    }
   ],
   "source": [
    "## Check the shape of the data\n",
    "\n",
    "data.shape"
   ]
  },
  {
   "cell_type": "code",
   "execution_count": 60,
   "id": "cb4fbb59-c0a0-46e5-ae88-fa7467e5e30d",
   "metadata": {},
   "outputs": [
    {
     "data": {
      "text/html": [
       "<div>\n",
       "<style scoped>\n",
       "    .dataframe tbody tr th:only-of-type {\n",
       "        vertical-align: middle;\n",
       "    }\n",
       "\n",
       "    .dataframe tbody tr th {\n",
       "        vertical-align: top;\n",
       "    }\n",
       "\n",
       "    .dataframe thead th {\n",
       "        text-align: right;\n",
       "    }\n",
       "</style>\n",
       "<table border=\"1\" class=\"dataframe\">\n",
       "  <thead>\n",
       "    <tr style=\"text-align: right;\">\n",
       "      <th></th>\n",
       "      <th>Order ID</th>\n",
       "      <th>Purchased product ID</th>\n",
       "      <th>Quantity of SKU</th>\n",
       "      <th>Category ID</th>\n",
       "      <th>Brand ID</th>\n",
       "      <th>Price in USD</th>\n",
       "      <th>User ID</th>\n",
       "    </tr>\n",
       "  </thead>\n",
       "  <tbody>\n",
       "    <tr>\n",
       "      <th>count</th>\n",
       "      <td>9.591000e+04</td>\n",
       "      <td>9.591000e+04</td>\n",
       "      <td>95910.0</td>\n",
       "      <td>9.055800e+04</td>\n",
       "      <td>9.112500e+04</td>\n",
       "      <td>90558.000000</td>\n",
       "      <td>9.055800e+04</td>\n",
       "    </tr>\n",
       "    <tr>\n",
       "      <th>mean</th>\n",
       "      <td>2.485191e+18</td>\n",
       "      <td>1.815970e+18</td>\n",
       "      <td>1.0</td>\n",
       "      <td>1.805947e+18</td>\n",
       "      <td>8.891036e+16</td>\n",
       "      <td>362.213017</td>\n",
       "      <td>1.512644e+18</td>\n",
       "    </tr>\n",
       "    <tr>\n",
       "      <th>std</th>\n",
       "      <td>1.934750e+17</td>\n",
       "      <td>2.136814e+17</td>\n",
       "      <td>0.0</td>\n",
       "      <td>2.083954e+16</td>\n",
       "      <td>3.559651e+17</td>\n",
       "      <td>444.157665</td>\n",
       "      <td>2.374776e+16</td>\n",
       "    </tr>\n",
       "    <tr>\n",
       "      <th>min</th>\n",
       "      <td>1.924899e+18</td>\n",
       "      <td>1.313551e+18</td>\n",
       "      <td>1.0</td>\n",
       "      <td>1.313678e+18</td>\n",
       "      <td>0.000000e+00</td>\n",
       "      <td>0.990000</td>\n",
       "      <td>1.313554e+18</td>\n",
       "    </tr>\n",
       "    <tr>\n",
       "      <th>25%</th>\n",
       "      <td>2.379732e+18</td>\n",
       "      <td>1.515966e+18</td>\n",
       "      <td>1.0</td>\n",
       "      <td>1.806829e+18</td>\n",
       "      <td>0.000000e+00</td>\n",
       "      <td>145.620000</td>\n",
       "      <td>1.515916e+18</td>\n",
       "    </tr>\n",
       "    <tr>\n",
       "      <th>50%</th>\n",
       "      <td>2.524282e+18</td>\n",
       "      <td>1.956664e+18</td>\n",
       "      <td>1.0</td>\n",
       "      <td>1.806829e+18</td>\n",
       "      <td>1.000000e+00</td>\n",
       "      <td>258.770000</td>\n",
       "      <td>1.515916e+18</td>\n",
       "    </tr>\n",
       "    <tr>\n",
       "      <th>75%</th>\n",
       "      <td>2.644347e+18</td>\n",
       "      <td>1.956664e+18</td>\n",
       "      <td>1.0</td>\n",
       "      <td>1.806829e+18</td>\n",
       "      <td>1.000000e+00</td>\n",
       "      <td>431.370000</td>\n",
       "      <td>1.515916e+18</td>\n",
       "    </tr>\n",
       "    <tr>\n",
       "      <th>max</th>\n",
       "      <td>2.719022e+18</td>\n",
       "      <td>2.541962e+18</td>\n",
       "      <td>1.0</td>\n",
       "      <td>1.806829e+18</td>\n",
       "      <td>1.550613e+18</td>\n",
       "      <td>34448.600000</td>\n",
       "      <td>1.554297e+18</td>\n",
       "    </tr>\n",
       "  </tbody>\n",
       "</table>\n",
       "</div>"
      ],
      "text/plain": [
       "           Order ID  Purchased product ID  Quantity of SKU   Category ID  \\\n",
       "count  9.591000e+04          9.591000e+04          95910.0  9.055800e+04   \n",
       "mean   2.485191e+18          1.815970e+18              1.0  1.805947e+18   \n",
       "std    1.934750e+17          2.136814e+17              0.0  2.083954e+16   \n",
       "min    1.924899e+18          1.313551e+18              1.0  1.313678e+18   \n",
       "25%    2.379732e+18          1.515966e+18              1.0  1.806829e+18   \n",
       "50%    2.524282e+18          1.956664e+18              1.0  1.806829e+18   \n",
       "75%    2.644347e+18          1.956664e+18              1.0  1.806829e+18   \n",
       "max    2.719022e+18          2.541962e+18              1.0  1.806829e+18   \n",
       "\n",
       "           Brand ID  Price in USD       User ID  \n",
       "count  9.112500e+04  90558.000000  9.055800e+04  \n",
       "mean   8.891036e+16    362.213017  1.512644e+18  \n",
       "std    3.559651e+17    444.157665  2.374776e+16  \n",
       "min    0.000000e+00      0.990000  1.313554e+18  \n",
       "25%    0.000000e+00    145.620000  1.515916e+18  \n",
       "50%    1.000000e+00    258.770000  1.515916e+18  \n",
       "75%    1.000000e+00    431.370000  1.515916e+18  \n",
       "max    1.550613e+18  34448.600000  1.554297e+18  "
      ]
     },
     "execution_count": 60,
     "metadata": {},
     "output_type": "execute_result"
    }
   ],
   "source": [
    "data.describe()"
   ]
  },
  {
   "cell_type": "code",
   "execution_count": 61,
   "id": "b95c19b2-ad32-4a83-b344-ae5197dcae63",
   "metadata": {},
   "outputs": [
    {
     "data": {
      "text/plain": [
       "<bound method DataFrame.info of                 Order datetime             Order ID  Purchased product ID  \\\n",
       "0      2018-12-01 17:38:31 UTC  1924899396621697920   1806829193678291446   \n",
       "1      2018-12-02 13:53:42 UTC  1925511016616034733   1842214461889315556   \n",
       "2      2018-12-02 17:44:02 UTC  1925626951238681511   1835566849434059453   \n",
       "3      2018-12-02 21:30:19 UTC  1925740842841014667   1873936840742928865   \n",
       "4      2018-12-02 22:09:34 UTC  1925760595336888995   1835566854827934449   \n",
       "...                        ...                  ...                   ...   \n",
       "95905  2021-12-01 09:47:37 UTC  2719016587653808559   1515966223597820877   \n",
       "95906  2021-12-01 09:50:37 UTC  2719018098886705639   1956663830729720074   \n",
       "95907  2021-12-01 09:52:06 UTC  2719018846999544322   1956663848219968336   \n",
       "95908  2021-12-01 09:55:35 UTC  2719020596963836492   1835566854106513435   \n",
       "95909  2021-12-01 09:59:07 UTC  2719022379232658075   1956663846156370429   \n",
       "\n",
       "       Quantity of SKU   Category ID    Category alias      Brand ID  \\\n",
       "0                    1  1.806829e+18               NaN           NaN   \n",
       "1                    1  1.806829e+18   jewelry.pendant  1.000000e+00   \n",
       "2                    1  1.806829e+18   jewelry.pendant  0.000000e+00   \n",
       "3                    1  1.806829e+18  jewelry.necklace  0.000000e+00   \n",
       "4                    1  1.806829e+18   jewelry.earring  1.000000e+00   \n",
       "...                ...           ...               ...           ...   \n",
       "95905                1           NaN              0.00  1.515916e+18   \n",
       "95906                1  1.806829e+18               NaN  0.000000e+00   \n",
       "95907                1  1.806829e+18   jewelry.earring  1.000000e+00   \n",
       "95908                1  1.806829e+18   jewelry.earring  0.000000e+00   \n",
       "95909                1  1.806829e+18   jewelry.pendant  1.000000e+00   \n",
       "\n",
       "       Price in USD       User ID Product gender Main Color Main metal  \\\n",
       "0            212.14  1.515916e+18            NaN     yellow       gold   \n",
       "1             54.66  1.515916e+18              f      white       gold   \n",
       "2             88.90  1.515916e+18              f        red       gold   \n",
       "3            417.67  1.515916e+18            NaN        red       gold   \n",
       "4            102.27  1.515916e+18            NaN        red       gold   \n",
       "...             ...           ...            ...        ...        ...   \n",
       "95905           NaN           NaN            NaN        NaN        NaN   \n",
       "95906        229.99  1.515916e+18            NaN        red       gold   \n",
       "95907        630.00  1.515916e+18              f      white       gold   \n",
       "95908         83.42  1.515916e+18            NaN      white       gold   \n",
       "95909         97.12  1.515916e+18            NaN        red       gold   \n",
       "\n",
       "       Main gem  \n",
       "0           NaN  \n",
       "1      sapphire  \n",
       "2       diamond  \n",
       "3      amethyst  \n",
       "4           NaN  \n",
       "...         ...  \n",
       "95905       NaN  \n",
       "95906       NaN  \n",
       "95907   diamond  \n",
       "95908    fianit  \n",
       "95909       NaN  \n",
       "\n",
       "[95910 rows x 13 columns]>"
      ]
     },
     "execution_count": 61,
     "metadata": {},
     "output_type": "execute_result"
    }
   ],
   "source": [
    "## Check the info of the data\n",
    "\n",
    "data.info"
   ]
  },
  {
   "cell_type": "code",
   "execution_count": 62,
   "id": "ff26be1d-a499-4460-bd52-07f89a4e3c27",
   "metadata": {},
   "outputs": [
    {
     "data": {
      "text/html": [
       "<div>\n",
       "<style scoped>\n",
       "    .dataframe tbody tr th:only-of-type {\n",
       "        vertical-align: middle;\n",
       "    }\n",
       "\n",
       "    .dataframe tbody tr th {\n",
       "        vertical-align: top;\n",
       "    }\n",
       "\n",
       "    .dataframe thead th {\n",
       "        text-align: right;\n",
       "    }\n",
       "</style>\n",
       "<table border=\"1\" class=\"dataframe\">\n",
       "  <thead>\n",
       "    <tr style=\"text-align: right;\">\n",
       "      <th></th>\n",
       "      <th>Order datetime</th>\n",
       "      <th>Order ID</th>\n",
       "      <th>Purchased product ID</th>\n",
       "      <th>Quantity of SKU</th>\n",
       "      <th>Category ID</th>\n",
       "      <th>Category alias</th>\n",
       "      <th>Brand ID</th>\n",
       "      <th>Price in USD</th>\n",
       "      <th>User ID</th>\n",
       "      <th>Product gender</th>\n",
       "      <th>Main Color</th>\n",
       "      <th>Main metal</th>\n",
       "      <th>Main gem</th>\n",
       "    </tr>\n",
       "  </thead>\n",
       "  <tbody>\n",
       "    <tr>\n",
       "      <th>0</th>\n",
       "      <td>False</td>\n",
       "      <td>False</td>\n",
       "      <td>False</td>\n",
       "      <td>False</td>\n",
       "      <td>False</td>\n",
       "      <td>True</td>\n",
       "      <td>True</td>\n",
       "      <td>False</td>\n",
       "      <td>False</td>\n",
       "      <td>True</td>\n",
       "      <td>False</td>\n",
       "      <td>False</td>\n",
       "      <td>True</td>\n",
       "    </tr>\n",
       "    <tr>\n",
       "      <th>1</th>\n",
       "      <td>False</td>\n",
       "      <td>False</td>\n",
       "      <td>False</td>\n",
       "      <td>False</td>\n",
       "      <td>False</td>\n",
       "      <td>False</td>\n",
       "      <td>False</td>\n",
       "      <td>False</td>\n",
       "      <td>False</td>\n",
       "      <td>False</td>\n",
       "      <td>False</td>\n",
       "      <td>False</td>\n",
       "      <td>False</td>\n",
       "    </tr>\n",
       "    <tr>\n",
       "      <th>2</th>\n",
       "      <td>False</td>\n",
       "      <td>False</td>\n",
       "      <td>False</td>\n",
       "      <td>False</td>\n",
       "      <td>False</td>\n",
       "      <td>False</td>\n",
       "      <td>False</td>\n",
       "      <td>False</td>\n",
       "      <td>False</td>\n",
       "      <td>False</td>\n",
       "      <td>False</td>\n",
       "      <td>False</td>\n",
       "      <td>False</td>\n",
       "    </tr>\n",
       "    <tr>\n",
       "      <th>3</th>\n",
       "      <td>False</td>\n",
       "      <td>False</td>\n",
       "      <td>False</td>\n",
       "      <td>False</td>\n",
       "      <td>False</td>\n",
       "      <td>False</td>\n",
       "      <td>False</td>\n",
       "      <td>False</td>\n",
       "      <td>False</td>\n",
       "      <td>True</td>\n",
       "      <td>False</td>\n",
       "      <td>False</td>\n",
       "      <td>False</td>\n",
       "    </tr>\n",
       "    <tr>\n",
       "      <th>4</th>\n",
       "      <td>False</td>\n",
       "      <td>False</td>\n",
       "      <td>False</td>\n",
       "      <td>False</td>\n",
       "      <td>False</td>\n",
       "      <td>False</td>\n",
       "      <td>False</td>\n",
       "      <td>False</td>\n",
       "      <td>False</td>\n",
       "      <td>True</td>\n",
       "      <td>False</td>\n",
       "      <td>False</td>\n",
       "      <td>True</td>\n",
       "    </tr>\n",
       "    <tr>\n",
       "      <th>...</th>\n",
       "      <td>...</td>\n",
       "      <td>...</td>\n",
       "      <td>...</td>\n",
       "      <td>...</td>\n",
       "      <td>...</td>\n",
       "      <td>...</td>\n",
       "      <td>...</td>\n",
       "      <td>...</td>\n",
       "      <td>...</td>\n",
       "      <td>...</td>\n",
       "      <td>...</td>\n",
       "      <td>...</td>\n",
       "      <td>...</td>\n",
       "    </tr>\n",
       "    <tr>\n",
       "      <th>95905</th>\n",
       "      <td>False</td>\n",
       "      <td>False</td>\n",
       "      <td>False</td>\n",
       "      <td>False</td>\n",
       "      <td>True</td>\n",
       "      <td>False</td>\n",
       "      <td>False</td>\n",
       "      <td>True</td>\n",
       "      <td>True</td>\n",
       "      <td>True</td>\n",
       "      <td>True</td>\n",
       "      <td>True</td>\n",
       "      <td>True</td>\n",
       "    </tr>\n",
       "    <tr>\n",
       "      <th>95906</th>\n",
       "      <td>False</td>\n",
       "      <td>False</td>\n",
       "      <td>False</td>\n",
       "      <td>False</td>\n",
       "      <td>False</td>\n",
       "      <td>True</td>\n",
       "      <td>False</td>\n",
       "      <td>False</td>\n",
       "      <td>False</td>\n",
       "      <td>True</td>\n",
       "      <td>False</td>\n",
       "      <td>False</td>\n",
       "      <td>True</td>\n",
       "    </tr>\n",
       "    <tr>\n",
       "      <th>95907</th>\n",
       "      <td>False</td>\n",
       "      <td>False</td>\n",
       "      <td>False</td>\n",
       "      <td>False</td>\n",
       "      <td>False</td>\n",
       "      <td>False</td>\n",
       "      <td>False</td>\n",
       "      <td>False</td>\n",
       "      <td>False</td>\n",
       "      <td>False</td>\n",
       "      <td>False</td>\n",
       "      <td>False</td>\n",
       "      <td>False</td>\n",
       "    </tr>\n",
       "    <tr>\n",
       "      <th>95908</th>\n",
       "      <td>False</td>\n",
       "      <td>False</td>\n",
       "      <td>False</td>\n",
       "      <td>False</td>\n",
       "      <td>False</td>\n",
       "      <td>False</td>\n",
       "      <td>False</td>\n",
       "      <td>False</td>\n",
       "      <td>False</td>\n",
       "      <td>True</td>\n",
       "      <td>False</td>\n",
       "      <td>False</td>\n",
       "      <td>False</td>\n",
       "    </tr>\n",
       "    <tr>\n",
       "      <th>95909</th>\n",
       "      <td>False</td>\n",
       "      <td>False</td>\n",
       "      <td>False</td>\n",
       "      <td>False</td>\n",
       "      <td>False</td>\n",
       "      <td>False</td>\n",
       "      <td>False</td>\n",
       "      <td>False</td>\n",
       "      <td>False</td>\n",
       "      <td>True</td>\n",
       "      <td>False</td>\n",
       "      <td>False</td>\n",
       "      <td>True</td>\n",
       "    </tr>\n",
       "  </tbody>\n",
       "</table>\n",
       "<p>95910 rows × 13 columns</p>\n",
       "</div>"
      ],
      "text/plain": [
       "       Order datetime  Order ID  Purchased product ID  Quantity of SKU  \\\n",
       "0               False     False                 False            False   \n",
       "1               False     False                 False            False   \n",
       "2               False     False                 False            False   \n",
       "3               False     False                 False            False   \n",
       "4               False     False                 False            False   \n",
       "...               ...       ...                   ...              ...   \n",
       "95905           False     False                 False            False   \n",
       "95906           False     False                 False            False   \n",
       "95907           False     False                 False            False   \n",
       "95908           False     False                 False            False   \n",
       "95909           False     False                 False            False   \n",
       "\n",
       "       Category ID  Category alias  Brand ID  Price in USD  User ID  \\\n",
       "0            False            True      True         False    False   \n",
       "1            False           False     False         False    False   \n",
       "2            False           False     False         False    False   \n",
       "3            False           False     False         False    False   \n",
       "4            False           False     False         False    False   \n",
       "...            ...             ...       ...           ...      ...   \n",
       "95905         True           False     False          True     True   \n",
       "95906        False            True     False         False    False   \n",
       "95907        False           False     False         False    False   \n",
       "95908        False           False     False         False    False   \n",
       "95909        False           False     False         False    False   \n",
       "\n",
       "       Product gender  Main Color  Main metal  Main gem  \n",
       "0                True       False       False      True  \n",
       "1               False       False       False     False  \n",
       "2               False       False       False     False  \n",
       "3                True       False       False     False  \n",
       "4                True       False       False      True  \n",
       "...               ...         ...         ...       ...  \n",
       "95905            True        True        True      True  \n",
       "95906            True       False       False      True  \n",
       "95907           False       False       False     False  \n",
       "95908            True       False       False     False  \n",
       "95909            True       False       False      True  \n",
       "\n",
       "[95910 rows x 13 columns]"
      ]
     },
     "execution_count": 62,
     "metadata": {},
     "output_type": "execute_result"
    }
   ],
   "source": [
    "data.isnull()"
   ]
  },
  {
   "cell_type": "code",
   "execution_count": 63,
   "id": "e0a59bd6-e29c-45bf-8b64-542d38f3717c",
   "metadata": {},
   "outputs": [
    {
     "data": {
      "text/plain": [
       "Order datetime              0\n",
       "Order ID                    0\n",
       "Purchased product ID        0\n",
       "Quantity of SKU             0\n",
       "Category ID              5352\n",
       "Category alias           9933\n",
       "Brand ID                 4785\n",
       "Price in USD             5352\n",
       "User ID                  5352\n",
       "Product gender          48167\n",
       "Main Color               7660\n",
       "Main metal               5462\n",
       "Main gem                34058\n",
       "dtype: int64"
      ]
     },
     "execution_count": 63,
     "metadata": {},
     "output_type": "execute_result"
    }
   ],
   "source": [
    "# Show the missing values\n",
    "\n",
    "data.isna().sum()"
   ]
  },
  {
   "cell_type": "markdown",
   "id": "9c91fec8-2e6f-4124-acde-00d539312413",
   "metadata": {},
   "source": [
    "### Check for Unique values"
   ]
  },
  {
   "cell_type": "code",
   "execution_count": 64,
   "id": "e67275cb-39eb-412c-8eb5-af800ae6bcf3",
   "metadata": {},
   "outputs": [
    {
     "data": {
      "text/plain": [
       "array([nan, 'f', 'm'], dtype=object)"
      ]
     },
     "execution_count": 64,
     "metadata": {},
     "output_type": "execute_result"
    }
   ],
   "source": [
    "data[\"Product gender\"].unique()"
   ]
  },
  {
   "cell_type": "code",
   "execution_count": 65,
   "id": "3427c253-5192-4c0b-b63a-b2597361f2a8",
   "metadata": {},
   "outputs": [
    {
     "name": "stdout",
     "output_type": "stream",
     "text": [
      "Unique Categories: 218\n",
      "Unique Brands: 2537\n",
      "Unique Metals: 3\n"
     ]
    }
   ],
   "source": [
    "# Check for unique categories\n",
    "\n",
    "print(\"Unique Categories:\", data['Category alias'].nunique())\n",
    "print(\"Unique Brands:\", data['Brand ID'].nunique())\n",
    "print(\"Unique Metals:\", data['Main metal'].nunique())"
   ]
  },
  {
   "cell_type": "markdown",
   "id": "51e5ddb2-23dc-4eda-910e-4d196a74ad56",
   "metadata": {},
   "source": [
    "## Data Cleaning"
   ]
  },
  {
   "cell_type": "markdown",
   "id": "fe6654d4-1565-4a65-bbca-93ab4763b6e7",
   "metadata": {},
   "source": [
    "#### Convert Data Types"
   ]
  },
  {
   "cell_type": "code",
   "execution_count": 66,
   "id": "fa71cf8c-7ccb-42be-b000-1e708ba4b938",
   "metadata": {},
   "outputs": [],
   "source": [
    "# Convert data types\n",
    "data['Order datetime'] = pd.to_datetime(data['Order datetime'])"
   ]
  },
  {
   "cell_type": "code",
   "execution_count": 67,
   "id": "c5845164-2715-4a25-af44-4601c7138e09",
   "metadata": {},
   "outputs": [],
   "source": [
    "# Convert numerical columns are in correct format - Price in USD\n",
    "data['Price in USD'] = pd.to_numeric(data['Price in USD'], errors='coerce')"
   ]
  },
  {
   "cell_type": "code",
   "execution_count": 68,
   "id": "3fc25cb3-8ceb-4887-a959-123c75bd81dc",
   "metadata": {},
   "outputs": [],
   "source": [
    "# Convert numerical columns are in correct format - Quantity of SKU in the order\n",
    "data['Quantity of SKU'] = pd.to_numeric(data['Quantity of SKU'], errors='coerce')"
   ]
  },
  {
   "cell_type": "markdown",
   "id": "cb831c1e-5580-490e-8228-872fb4a90d75",
   "metadata": {},
   "source": [
    "#### Drop or Replace missing values"
   ]
  },
  {
   "cell_type": "code",
   "execution_count": 69,
   "id": "38b02896-836a-46fd-95bf-d5106dcbf6b9",
   "metadata": {},
   "outputs": [],
   "source": [
    "#Drop rows with missing target variable (Price in USD)\n",
    "data = data.dropna(subset=['Price in USD'])\n",
    "#data.head"
   ]
  },
  {
   "cell_type": "code",
   "execution_count": 70,
   "id": "7a405069-6873-46d4-bc2a-33dd4133e6f7",
   "metadata": {},
   "outputs": [],
   "source": [
    "# Fill missing values # Categorical values can be fill with 'Unknown'\n",
    "\n",
    "data['Category alias'].fillna('Unknown', inplace=True)\n",
    "data['Brand ID'].fillna('Unknown', inplace=True)\n",
    "data['Main metal'].fillna('Unknown', inplace=True)\n",
    "data['Main Color'].fillna('Unknown', inplace=True)\n",
    "data['Product gender'].fillna('Unknown', inplace=True)\n",
    "data['Main gem'].fillna('Unknown', inplace=True)\n",
    "#data"
   ]
  },
  {
   "cell_type": "code",
   "execution_count": 71,
   "id": "7bb455e9-5058-4c03-b60a-560b7dbdcc4a",
   "metadata": {},
   "outputs": [],
   "source": [
    "# Drop Irrelevant columns - User ID & Category ID\n",
    "\n",
    "data.drop(columns=['User ID'], inplace=True)\n",
    "data.drop(columns=['Category ID'], inplace=True)"
   ]
  },
  {
   "cell_type": "markdown",
   "id": "3617f874-bb5a-4233-9eb3-e0d9ba770e3b",
   "metadata": {},
   "source": [
    "### Add a Month Column"
   ]
  },
  {
   "cell_type": "code",
   "execution_count": 72,
   "id": "ff8fc482-2729-42fe-ba0b-f901473bf062",
   "metadata": {},
   "outputs": [
    {
     "data": {
      "text/html": [
       "<div>\n",
       "<style scoped>\n",
       "    .dataframe tbody tr th:only-of-type {\n",
       "        vertical-align: middle;\n",
       "    }\n",
       "\n",
       "    .dataframe tbody tr th {\n",
       "        vertical-align: top;\n",
       "    }\n",
       "\n",
       "    .dataframe thead th {\n",
       "        text-align: right;\n",
       "    }\n",
       "</style>\n",
       "<table border=\"1\" class=\"dataframe\">\n",
       "  <thead>\n",
       "    <tr style=\"text-align: right;\">\n",
       "      <th></th>\n",
       "      <th>Order datetime</th>\n",
       "      <th>Order ID</th>\n",
       "      <th>Purchased product ID</th>\n",
       "      <th>Quantity of SKU</th>\n",
       "      <th>Category alias</th>\n",
       "      <th>Brand ID</th>\n",
       "      <th>Price in USD</th>\n",
       "      <th>Product gender</th>\n",
       "      <th>Main Color</th>\n",
       "      <th>Main metal</th>\n",
       "      <th>Main gem</th>\n",
       "      <th>Month</th>\n",
       "    </tr>\n",
       "  </thead>\n",
       "  <tbody>\n",
       "    <tr>\n",
       "      <th>0</th>\n",
       "      <td>2018-12-01 17:38:31+00:00</td>\n",
       "      <td>1924899396621697920</td>\n",
       "      <td>1806829193678291446</td>\n",
       "      <td>1</td>\n",
       "      <td>Unknown</td>\n",
       "      <td>Unknown</td>\n",
       "      <td>212.14</td>\n",
       "      <td>Unknown</td>\n",
       "      <td>yellow</td>\n",
       "      <td>gold</td>\n",
       "      <td>Unknown</td>\n",
       "      <td>12</td>\n",
       "    </tr>\n",
       "    <tr>\n",
       "      <th>1</th>\n",
       "      <td>2018-12-02 13:53:42+00:00</td>\n",
       "      <td>1925511016616034733</td>\n",
       "      <td>1842214461889315556</td>\n",
       "      <td>1</td>\n",
       "      <td>jewelry.pendant</td>\n",
       "      <td>1.0</td>\n",
       "      <td>54.66</td>\n",
       "      <td>f</td>\n",
       "      <td>white</td>\n",
       "      <td>gold</td>\n",
       "      <td>sapphire</td>\n",
       "      <td>12</td>\n",
       "    </tr>\n",
       "    <tr>\n",
       "      <th>2</th>\n",
       "      <td>2018-12-02 17:44:02+00:00</td>\n",
       "      <td>1925626951238681511</td>\n",
       "      <td>1835566849434059453</td>\n",
       "      <td>1</td>\n",
       "      <td>jewelry.pendant</td>\n",
       "      <td>0.0</td>\n",
       "      <td>88.90</td>\n",
       "      <td>f</td>\n",
       "      <td>red</td>\n",
       "      <td>gold</td>\n",
       "      <td>diamond</td>\n",
       "      <td>12</td>\n",
       "    </tr>\n",
       "    <tr>\n",
       "      <th>3</th>\n",
       "      <td>2018-12-02 21:30:19+00:00</td>\n",
       "      <td>1925740842841014667</td>\n",
       "      <td>1873936840742928865</td>\n",
       "      <td>1</td>\n",
       "      <td>jewelry.necklace</td>\n",
       "      <td>0.0</td>\n",
       "      <td>417.67</td>\n",
       "      <td>Unknown</td>\n",
       "      <td>red</td>\n",
       "      <td>gold</td>\n",
       "      <td>amethyst</td>\n",
       "      <td>12</td>\n",
       "    </tr>\n",
       "    <tr>\n",
       "      <th>4</th>\n",
       "      <td>2018-12-02 22:09:34+00:00</td>\n",
       "      <td>1925760595336888995</td>\n",
       "      <td>1835566854827934449</td>\n",
       "      <td>1</td>\n",
       "      <td>jewelry.earring</td>\n",
       "      <td>1.0</td>\n",
       "      <td>102.27</td>\n",
       "      <td>Unknown</td>\n",
       "      <td>red</td>\n",
       "      <td>gold</td>\n",
       "      <td>Unknown</td>\n",
       "      <td>12</td>\n",
       "    </tr>\n",
       "  </tbody>\n",
       "</table>\n",
       "</div>"
      ],
      "text/plain": [
       "             Order datetime             Order ID  Purchased product ID  \\\n",
       "0 2018-12-01 17:38:31+00:00  1924899396621697920   1806829193678291446   \n",
       "1 2018-12-02 13:53:42+00:00  1925511016616034733   1842214461889315556   \n",
       "2 2018-12-02 17:44:02+00:00  1925626951238681511   1835566849434059453   \n",
       "3 2018-12-02 21:30:19+00:00  1925740842841014667   1873936840742928865   \n",
       "4 2018-12-02 22:09:34+00:00  1925760595336888995   1835566854827934449   \n",
       "\n",
       "   Quantity of SKU    Category alias Brand ID  Price in USD Product gender  \\\n",
       "0                1           Unknown  Unknown        212.14        Unknown   \n",
       "1                1   jewelry.pendant      1.0         54.66              f   \n",
       "2                1   jewelry.pendant      0.0         88.90              f   \n",
       "3                1  jewelry.necklace      0.0        417.67        Unknown   \n",
       "4                1   jewelry.earring      1.0        102.27        Unknown   \n",
       "\n",
       "  Main Color Main metal  Main gem  Month  \n",
       "0     yellow       gold   Unknown     12  \n",
       "1      white       gold  sapphire     12  \n",
       "2        red       gold   diamond     12  \n",
       "3        red       gold  amethyst     12  \n",
       "4        red       gold   Unknown     12  "
      ]
     },
     "execution_count": 72,
     "metadata": {},
     "output_type": "execute_result"
    }
   ],
   "source": [
    "# Create a Month Column\n",
    "\n",
    "data['Month'] = data['Order datetime'].dt.month\n",
    "data.head()"
   ]
  },
  {
   "cell_type": "code",
   "execution_count": 73,
   "id": "8d96bcce-78ca-40d3-af14-58996d423fe0",
   "metadata": {},
   "outputs": [
    {
     "data": {
      "text/html": [
       "<div>\n",
       "<style scoped>\n",
       "    .dataframe tbody tr th:only-of-type {\n",
       "        vertical-align: middle;\n",
       "    }\n",
       "\n",
       "    .dataframe tbody tr th {\n",
       "        vertical-align: top;\n",
       "    }\n",
       "\n",
       "    .dataframe thead th {\n",
       "        text-align: right;\n",
       "    }\n",
       "</style>\n",
       "<table border=\"1\" class=\"dataframe\">\n",
       "  <thead>\n",
       "    <tr style=\"text-align: right;\">\n",
       "      <th></th>\n",
       "      <th>Order datetime</th>\n",
       "      <th>Order ID</th>\n",
       "      <th>Purchased product ID</th>\n",
       "      <th>Quantity of SKU</th>\n",
       "      <th>Category alias</th>\n",
       "      <th>Brand ID</th>\n",
       "      <th>Price in USD</th>\n",
       "      <th>Product gender</th>\n",
       "      <th>Main Color</th>\n",
       "      <th>Main metal</th>\n",
       "      <th>Main gem</th>\n",
       "      <th>Month</th>\n",
       "      <th>MonthName</th>\n",
       "    </tr>\n",
       "  </thead>\n",
       "  <tbody>\n",
       "    <tr>\n",
       "      <th>0</th>\n",
       "      <td>2018-12-01 17:38:31+00:00</td>\n",
       "      <td>1924899396621697920</td>\n",
       "      <td>1806829193678291446</td>\n",
       "      <td>1</td>\n",
       "      <td>Unknown</td>\n",
       "      <td>Unknown</td>\n",
       "      <td>212.14</td>\n",
       "      <td>Unknown</td>\n",
       "      <td>yellow</td>\n",
       "      <td>gold</td>\n",
       "      <td>Unknown</td>\n",
       "      <td>12</td>\n",
       "      <td>December</td>\n",
       "    </tr>\n",
       "    <tr>\n",
       "      <th>1</th>\n",
       "      <td>2018-12-02 13:53:42+00:00</td>\n",
       "      <td>1925511016616034733</td>\n",
       "      <td>1842214461889315556</td>\n",
       "      <td>1</td>\n",
       "      <td>jewelry.pendant</td>\n",
       "      <td>1.0</td>\n",
       "      <td>54.66</td>\n",
       "      <td>f</td>\n",
       "      <td>white</td>\n",
       "      <td>gold</td>\n",
       "      <td>sapphire</td>\n",
       "      <td>12</td>\n",
       "      <td>December</td>\n",
       "    </tr>\n",
       "    <tr>\n",
       "      <th>2</th>\n",
       "      <td>2018-12-02 17:44:02+00:00</td>\n",
       "      <td>1925626951238681511</td>\n",
       "      <td>1835566849434059453</td>\n",
       "      <td>1</td>\n",
       "      <td>jewelry.pendant</td>\n",
       "      <td>0.0</td>\n",
       "      <td>88.90</td>\n",
       "      <td>f</td>\n",
       "      <td>red</td>\n",
       "      <td>gold</td>\n",
       "      <td>diamond</td>\n",
       "      <td>12</td>\n",
       "      <td>December</td>\n",
       "    </tr>\n",
       "    <tr>\n",
       "      <th>3</th>\n",
       "      <td>2018-12-02 21:30:19+00:00</td>\n",
       "      <td>1925740842841014667</td>\n",
       "      <td>1873936840742928865</td>\n",
       "      <td>1</td>\n",
       "      <td>jewelry.necklace</td>\n",
       "      <td>0.0</td>\n",
       "      <td>417.67</td>\n",
       "      <td>Unknown</td>\n",
       "      <td>red</td>\n",
       "      <td>gold</td>\n",
       "      <td>amethyst</td>\n",
       "      <td>12</td>\n",
       "      <td>December</td>\n",
       "    </tr>\n",
       "    <tr>\n",
       "      <th>4</th>\n",
       "      <td>2018-12-02 22:09:34+00:00</td>\n",
       "      <td>1925760595336888995</td>\n",
       "      <td>1835566854827934449</td>\n",
       "      <td>1</td>\n",
       "      <td>jewelry.earring</td>\n",
       "      <td>1.0</td>\n",
       "      <td>102.27</td>\n",
       "      <td>Unknown</td>\n",
       "      <td>red</td>\n",
       "      <td>gold</td>\n",
       "      <td>Unknown</td>\n",
       "      <td>12</td>\n",
       "      <td>December</td>\n",
       "    </tr>\n",
       "  </tbody>\n",
       "</table>\n",
       "</div>"
      ],
      "text/plain": [
       "             Order datetime             Order ID  Purchased product ID  \\\n",
       "0 2018-12-01 17:38:31+00:00  1924899396621697920   1806829193678291446   \n",
       "1 2018-12-02 13:53:42+00:00  1925511016616034733   1842214461889315556   \n",
       "2 2018-12-02 17:44:02+00:00  1925626951238681511   1835566849434059453   \n",
       "3 2018-12-02 21:30:19+00:00  1925740842841014667   1873936840742928865   \n",
       "4 2018-12-02 22:09:34+00:00  1925760595336888995   1835566854827934449   \n",
       "\n",
       "   Quantity of SKU    Category alias Brand ID  Price in USD Product gender  \\\n",
       "0                1           Unknown  Unknown        212.14        Unknown   \n",
       "1                1   jewelry.pendant      1.0         54.66              f   \n",
       "2                1   jewelry.pendant      0.0         88.90              f   \n",
       "3                1  jewelry.necklace      0.0        417.67        Unknown   \n",
       "4                1   jewelry.earring      1.0        102.27        Unknown   \n",
       "\n",
       "  Main Color Main metal  Main gem  Month MonthName  \n",
       "0     yellow       gold   Unknown     12  December  \n",
       "1      white       gold  sapphire     12  December  \n",
       "2        red       gold   diamond     12  December  \n",
       "3        red       gold  amethyst     12  December  \n",
       "4        red       gold   Unknown     12  December  "
      ]
     },
     "execution_count": 73,
     "metadata": {},
     "output_type": "execute_result"
    }
   ],
   "source": [
    "# Replace the month numbers with month names\n",
    "\n",
    "data['MonthName'] = data['Month'].map({1: 'January', 2: 'February', 3: 'March', 4: 'April', 5: 'May', 6: 'June',\n",
    "                                   7: 'July', 8: 'August', 9: 'September', 10: 'October', 11: 'November', 12: 'December'})\n",
    "\n",
    "data.head()"
   ]
  },
  {
   "cell_type": "code",
   "execution_count": 74,
   "id": "868a61e3-df35-4676-9abd-3807d1028067",
   "metadata": {},
   "outputs": [
    {
     "data": {
      "text/plain": [
       "<Axes: title={'center': 'Visualizing missing values'}>"
      ]
     },
     "execution_count": 74,
     "metadata": {},
     "output_type": "execute_result"
    },
    {
     "data": {
      "image/png": "[encoded data removed]",
      "text/plain": [
       "<Figure size 1000x500 with 2 Axes>"
      ]
     },
     "metadata": {},
     "output_type": "display_data"
    }
   ],
   "source": [
    "## Visualise missing value\n",
    "\n",
    "plt.figure(figsize=(10, 5))\n",
    "plt.title('Visualizing missing values')\n",
    "sns.heatmap(data.isnull(), cbar=True, cmap='magma_r')\n",
    "#plt.show() "
   ]
  },
  {
   "cell_type": "markdown",
   "id": "b62dacba-596e-42ed-98e6-c220e5148fb8",
   "metadata": {},
   "source": [
    "### Calculate the Total Sales"
   ]
  },
  {
   "cell_type": "code",
   "execution_count": 75,
   "id": "dbf89b76-e72e-46e8-9308-bf5224dc0279",
   "metadata": {},
   "outputs": [
    {
     "name": "stdout",
     "output_type": "stream",
     "text": [
      "32801286.37\n"
     ]
    }
   ],
   "source": [
    "sales = round(data['Price in USD'].sum(), 2)\n",
    "print(sales)\n"
   ]
  },
  {
   "cell_type": "code",
   "execution_count": 76,
   "id": "e925f258-e8b2-471c-bd58-57d0829126c7",
   "metadata": {},
   "outputs": [
    {
     "data": {
      "text/plain": [
       "(Product gender\n",
       " Unknown    14815123.32\n",
       " f          17833689.75\n",
       " m            152473.30\n",
       " Name: Price in USD, dtype: float64,\n",
       " 2)"
      ]
     },
     "execution_count": 76,
     "metadata": {},
     "output_type": "execute_result"
    }
   ],
   "source": [
    "data.groupby('Product gender')['Price in USD'].sum(),2\n"
   ]
  },
  {
   "cell_type": "code",
   "execution_count": null,
   "id": "9197bdf5-44be-4dfc-bdd4-c565f1b28b9c",
   "metadata": {},
   "outputs": [],
   "source": []
  },
  {
   "cell_type": "markdown",
   "id": "bdffe7f2-4c10-4b76-840c-746fef1544d0",
   "metadata": {},
   "source": [
    "#### Distribution of Jewelry Prices"
   ]
  },
  {
   "cell_type": "code",
   "execution_count": 77,
   "id": "a144ce9c-5463-4c4f-87c0-29cf494022bb",
   "metadata": {},
   "outputs": [
    {
     "data": {
      "image/png": "[encoded data removed]",
      "text/plain": [
       "<Figure size 1000x600 with 1 Axes>"
      ]
     },
     "metadata": {},
     "output_type": "display_data"
    }
   ],
   "source": [
    "import seaborn as sns\n",
    "import matplotlib.pyplot as plt\n",
    "\n",
    "plt.figure(figsize=(10,6))\n",
    "sns.histplot(data['Price in USD'], bins=50, kde=True)\n",
    "plt.title('Distribution of Jewelry Prices')\n",
    "plt.xlabel('Price (USD)')\n",
    "plt.ylabel('Count')\n",
    "plt.show()"
   ]
  },
  {
   "cell_type": "code",
   "execution_count": 78,
   "id": "16864e77-353f-4929-b6c7-bb5211ea8758",
   "metadata": {},
   "outputs": [
    {
     "data": {
      "image/png": "[encoded data removed]",
      "text/plain": [
       "<Figure size 1000x600 with 1 Axes>"
      ]
     },
     "metadata": {},
     "output_type": "display_data"
    }
   ],
   "source": [
    "plt.figure(figsize=(10,6))\n",
    "sns.histplot(data['Price in USD'].apply(lambda x: float(x)).apply(np.log1p), bins=50, kde=True)\n",
    "plt.title('Log-Scaled Price Distribution')\n",
    "plt.xlabel('Log(Price + 1)')\n",
    "plt.show()"
   ]
  },
  {
   "cell_type": "code",
   "execution_count": null,
   "id": "f3ca9931-032c-49dc-9541-549db634d8b2",
   "metadata": {},
   "outputs": [],
   "source": []
  },
  {
   "cell_type": "markdown",
   "id": "9331e6a5-71e1-467c-8b57-03a8b7f4cd5a",
   "metadata": {},
   "source": [
    "#### Pricing Trends by Category"
   ]
  },
  {
   "cell_type": "code",
   "execution_count": 79,
   "id": "cf146a02-87fd-4f33-81df-5db0ec099196",
   "metadata": {},
   "outputs": [
    {
     "data": {
      "image/png": "[encoded data removed]",
      "text/plain": [
       "<Figure size 1200x600 with 1 Axes>"
      ]
     },
     "metadata": {},
     "output_type": "display_data"
    }
   ],
   "source": [
    "plt.figure(figsize=(12,6))\n",
    "sns.boxplot(x='Category alias', y='Price in USD', data=data)\n",
    "plt.xticks(rotation=45)\n",
    "plt.title('Price by Jewelry Category')\n",
    "plt.ylabel('Price (USD)')\n",
    "plt.xlabel('Category')\n",
    "plt.show()"
   ]
  },
  {
   "cell_type": "code",
   "execution_count": null,
   "id": "1ff05c40-3deb-463f-a8f2-3a42d65a3b58",
   "metadata": {},
   "outputs": [],
   "source": []
  },
  {
   "cell_type": "markdown",
   "id": "e7ad9dd7-1e04-47bc-bddf-0e0c70e21593",
   "metadata": {},
   "source": [
    "#### Demand Trends – Quantity Ordered by Product or Category"
   ]
  },
  {
   "cell_type": "code",
   "execution_count": 80,
   "id": "ba25809c-356c-40d5-9ccf-f6932e3ccd78",
   "metadata": {},
   "outputs": [
    {
     "data": {
      "image/png": "[encoded data removed]",
      "text/plain": [
       "<Figure size 1200x600 with 1 Axes>"
      ]
     },
     "metadata": {},
     "output_type": "display_data"
    }
   ],
   "source": [
    "quantity_by_category = data.groupby('Category alias')['Quantity of SKU'].sum().sort_values(ascending=False)\n",
    "\n",
    "plt.figure(figsize=(12,6))\n",
    "sns.barplot(x=quantity_by_category.index, y=quantity_by_category.values)\n",
    "plt.xticks(rotation=45)\n",
    "plt.title('Total Quantity Ordered by Category')\n",
    "plt.ylabel('Total Quantity')\n",
    "plt.xlabel('Category')\n",
    "plt.show()"
   ]
  },
  {
   "cell_type": "code",
   "execution_count": null,
   "id": "4d4ecdd6-1b87-4615-b1d0-bd89df661395",
   "metadata": {},
   "outputs": [],
   "source": []
  },
  {
   "cell_type": "markdown",
   "id": "063b913e-43e1-46d1-bf87-5df8ab272068",
   "metadata": {},
   "source": [
    "#### Average Price by Brand or Main Metal"
   ]
  },
  {
   "cell_type": "code",
   "execution_count": 81,
   "id": "b2836d41-e6b2-4abc-af91-753985191990",
   "metadata": {},
   "outputs": [
    {
     "data": {
      "image/png": "[encoded data removed]",
      "text/plain": [
       "<Figure size 1200x600 with 1 Axes>"
      ]
     },
     "metadata": {},
     "output_type": "display_data"
    }
   ],
   "source": [
    "# Average price by brand\n",
    "avg_price_brand = data.groupby('Brand ID')['Price in USD'].mean().sort_values(ascending=False).head(15)\n",
    "\n",
    "plt.figure(figsize=(12,6))\n",
    "sns.barplot(x=avg_price_brand.index, y=avg_price_brand.values)\n",
    "plt.title('Top 15 Brands by Average Price')\n",
    "plt.ylabel('Average Price (USD)')\n",
    "plt.xlabel('Brand ID')\n",
    "plt.xticks(rotation=45)\n",
    "plt.show()"
   ]
  },
  {
   "cell_type": "code",
   "execution_count": null,
   "id": "4b7a7b40-cb94-4e12-a8c6-02fd95d8a931",
   "metadata": {},
   "outputs": [],
   "source": []
  },
  {
   "cell_type": "code",
   "execution_count": 82,
   "id": "ba9132eb-13aa-46d0-bddf-6fd290e885c8",
   "metadata": {},
   "outputs": [
    {
     "data": {
      "image/png": "[encoded data removed]",
      "text/plain": [
       "<Figure size 1000x500 with 1 Axes>"
      ]
     },
     "metadata": {},
     "output_type": "display_data"
    }
   ],
   "source": [
    "# Average price by metal\n",
    "avg_price_metal = data.groupby('Main metal')['Price in USD'].mean().sort_values(ascending=False)\n",
    "\n",
    "plt.figure(figsize=(10,5))\n",
    "sns.barplot(x=avg_price_metal.index, y=avg_price_metal.values)\n",
    "plt.title('Average Price by Main Metal')\n",
    "plt.ylabel('Average Price (USD)')\n",
    "plt.xlabel('Main Metal')\n",
    "plt.xticks(rotation=45)\n",
    "plt.show()"
   ]
  },
  {
   "cell_type": "code",
   "execution_count": null,
   "id": "3cbf519d-b512-4011-bd32-22f4588bc5c1",
   "metadata": {},
   "outputs": [],
   "source": []
  },
  {
   "cell_type": "markdown",
   "id": "35c4eb39-6575-474d-be9f-e294c70bd861",
   "metadata": {},
   "source": [
    "#### Time-based Analysis"
   ]
  },
  {
   "cell_type": "code",
   "execution_count": 83,
   "id": "9caa5cb6-4e89-4400-bef0-0bc7de506cf6",
   "metadata": {},
   "outputs": [
    {
     "data": {
      "image/png": "[encoded data removed]",
      "text/plain": [
       "<Figure size 1200x600 with 1 Axes>"
      ]
     },
     "metadata": {},
     "output_type": "display_data"
    }
   ],
   "source": [
    "# Monthly price trends\n",
    "data['Order Month'] = data['Order datetime'].dt.to_period('M')\n",
    "monthly_avg_price = data.groupby('Order Month')['Price in USD'].mean()\n",
    "\n",
    "monthly_avg_price.plot(kind='line', figsize=(12,6), title='Average Price Over Time')\n",
    "plt.ylabel('Average Price (USD)')\n",
    "plt.xlabel('Order Month')\n",
    "plt.grid(True)\n",
    "plt.show()"
   ]
  },
  {
   "cell_type": "code",
   "execution_count": null,
   "id": "f7d4ee73-c568-440e-9c12-a649902e4695",
   "metadata": {},
   "outputs": [],
   "source": []
  },
  {
   "cell_type": "code",
   "execution_count": null,
   "id": "96b880fa-1fdc-4d9a-89b6-fdba2a469b33",
   "metadata": {},
   "outputs": [],
   "source": []
  },
  {
   "cell_type": "markdown",
   "id": "b8d9ab86-2215-4ce2-bf06-7812563e90d5",
   "metadata": {},
   "source": [
    "## Feature Engineering"
   ]
  },
  {
   "cell_type": "code",
   "execution_count": 84,
   "id": "58382da3-9669-43ce-b4af-dd7f3ba7fafa",
   "metadata": {},
   "outputs": [
    {
     "name": "stdout",
     "output_type": "stream",
     "text": [
      "Requirement already satisfied: scikit-learn in c:\\users\\ifeomaaugustaadigwe\\anaconda3\\lib\\site-packages (1.6.1)\n",
      "Requirement already satisfied: joblib>=1.2.0 in c:\\users\\ifeomaaugustaadigwe\\anaconda3\\lib\\site-packages (from scikit-learn) (1.5.0)\n",
      "Requirement already satisfied: threadpoolctl>=3.1.0 in c:\\users\\ifeomaaugustaadigwe\\anaconda3\\lib\\site-packages (from scikit-learn) (3.6.0)\n",
      "Requirement already satisfied: scipy>=1.6.0 in c:\\users\\ifeomaaugustaadigwe\\anaconda3\\lib\\site-packages (from scikit-learn) (1.15.3)\n",
      "Requirement already satisfied: numpy>=1.19.5 in c:\\users\\ifeomaaugustaadigwe\\anaconda3\\lib\\site-packages (from scikit-learn) (2.2.5)\n"
     ]
    }
   ],
   "source": [
    "!pip install scikit-learn\n"
   ]
  },
  {
   "cell_type": "code",
   "execution_count": 85,
   "id": "18f03392-aca5-44c7-9a7e-3e99e21d128f",
   "metadata": {},
   "outputs": [],
   "source": [
    "from sklearn.preprocessing import OneHotEncoder"
   ]
  },
  {
   "cell_type": "code",
   "execution_count": 86,
   "id": "da2e1411-96ff-4613-9ecd-124272279575",
   "metadata": {},
   "outputs": [
    {
     "data": {
      "text/html": [
       "<div>\n",
       "<style scoped>\n",
       "    .dataframe tbody tr th:only-of-type {\n",
       "        vertical-align: middle;\n",
       "    }\n",
       "\n",
       "    .dataframe tbody tr th {\n",
       "        vertical-align: top;\n",
       "    }\n",
       "\n",
       "    .dataframe thead th {\n",
       "        text-align: right;\n",
       "    }\n",
       "</style>\n",
       "<table border=\"1\" class=\"dataframe\">\n",
       "  <thead>\n",
       "    <tr style=\"text-align: right;\">\n",
       "      <th></th>\n",
       "      <th>Order datetime</th>\n",
       "      <th>Order ID</th>\n",
       "      <th>Purchased product ID</th>\n",
       "      <th>Quantity of SKU</th>\n",
       "      <th>Price in USD</th>\n",
       "      <th>Month</th>\n",
       "      <th>MonthName</th>\n",
       "      <th>Order Month</th>\n",
       "      <th>Category alias_electronics.clocks</th>\n",
       "      <th>Category alias_jewelry.bracelet</th>\n",
       "      <th>...</th>\n",
       "      <th>Main gem_quartz_smoky</th>\n",
       "      <th>Main gem_rhodolite</th>\n",
       "      <th>Main gem_ruby</th>\n",
       "      <th>Main gem_sapphire</th>\n",
       "      <th>Main gem_sapphire_geothermal</th>\n",
       "      <th>Main gem_sitall</th>\n",
       "      <th>Main gem_spinel</th>\n",
       "      <th>Main gem_topaz</th>\n",
       "      <th>Main gem_tourmaline</th>\n",
       "      <th>Main gem_turquoise</th>\n",
       "    </tr>\n",
       "  </thead>\n",
       "  <tbody>\n",
       "    <tr>\n",
       "      <th>0</th>\n",
       "      <td>2018-12-01 17:38:31+00:00</td>\n",
       "      <td>1924899396621697920</td>\n",
       "      <td>1806829193678291446</td>\n",
       "      <td>1</td>\n",
       "      <td>212.14</td>\n",
       "      <td>12</td>\n",
       "      <td>December</td>\n",
       "      <td>2018-12</td>\n",
       "      <td>False</td>\n",
       "      <td>False</td>\n",
       "      <td>...</td>\n",
       "      <td>False</td>\n",
       "      <td>False</td>\n",
       "      <td>False</td>\n",
       "      <td>False</td>\n",
       "      <td>False</td>\n",
       "      <td>False</td>\n",
       "      <td>False</td>\n",
       "      <td>False</td>\n",
       "      <td>False</td>\n",
       "      <td>False</td>\n",
       "    </tr>\n",
       "    <tr>\n",
       "      <th>1</th>\n",
       "      <td>2018-12-02 13:53:42+00:00</td>\n",
       "      <td>1925511016616034733</td>\n",
       "      <td>1842214461889315556</td>\n",
       "      <td>1</td>\n",
       "      <td>54.66</td>\n",
       "      <td>12</td>\n",
       "      <td>December</td>\n",
       "      <td>2018-12</td>\n",
       "      <td>False</td>\n",
       "      <td>False</td>\n",
       "      <td>...</td>\n",
       "      <td>False</td>\n",
       "      <td>False</td>\n",
       "      <td>False</td>\n",
       "      <td>True</td>\n",
       "      <td>False</td>\n",
       "      <td>False</td>\n",
       "      <td>False</td>\n",
       "      <td>False</td>\n",
       "      <td>False</td>\n",
       "      <td>False</td>\n",
       "    </tr>\n",
       "    <tr>\n",
       "      <th>2</th>\n",
       "      <td>2018-12-02 17:44:02+00:00</td>\n",
       "      <td>1925626951238681511</td>\n",
       "      <td>1835566849434059453</td>\n",
       "      <td>1</td>\n",
       "      <td>88.90</td>\n",
       "      <td>12</td>\n",
       "      <td>December</td>\n",
       "      <td>2018-12</td>\n",
       "      <td>False</td>\n",
       "      <td>False</td>\n",
       "      <td>...</td>\n",
       "      <td>False</td>\n",
       "      <td>False</td>\n",
       "      <td>False</td>\n",
       "      <td>False</td>\n",
       "      <td>False</td>\n",
       "      <td>False</td>\n",
       "      <td>False</td>\n",
       "      <td>False</td>\n",
       "      <td>False</td>\n",
       "      <td>False</td>\n",
       "    </tr>\n",
       "    <tr>\n",
       "      <th>3</th>\n",
       "      <td>2018-12-02 21:30:19+00:00</td>\n",
       "      <td>1925740842841014667</td>\n",
       "      <td>1873936840742928865</td>\n",
       "      <td>1</td>\n",
       "      <td>417.67</td>\n",
       "      <td>12</td>\n",
       "      <td>December</td>\n",
       "      <td>2018-12</td>\n",
       "      <td>False</td>\n",
       "      <td>False</td>\n",
       "      <td>...</td>\n",
       "      <td>False</td>\n",
       "      <td>False</td>\n",
       "      <td>False</td>\n",
       "      <td>False</td>\n",
       "      <td>False</td>\n",
       "      <td>False</td>\n",
       "      <td>False</td>\n",
       "      <td>False</td>\n",
       "      <td>False</td>\n",
       "      <td>False</td>\n",
       "    </tr>\n",
       "    <tr>\n",
       "      <th>4</th>\n",
       "      <td>2018-12-02 22:09:34+00:00</td>\n",
       "      <td>1925760595336888995</td>\n",
       "      <td>1835566854827934449</td>\n",
       "      <td>1</td>\n",
       "      <td>102.27</td>\n",
       "      <td>12</td>\n",
       "      <td>December</td>\n",
       "      <td>2018-12</td>\n",
       "      <td>False</td>\n",
       "      <td>False</td>\n",
       "      <td>...</td>\n",
       "      <td>False</td>\n",
       "      <td>False</td>\n",
       "      <td>False</td>\n",
       "      <td>False</td>\n",
       "      <td>False</td>\n",
       "      <td>False</td>\n",
       "      <td>False</td>\n",
       "      <td>False</td>\n",
       "      <td>False</td>\n",
       "      <td>False</td>\n",
       "    </tr>\n",
       "    <tr>\n",
       "      <th>...</th>\n",
       "      <td>...</td>\n",
       "      <td>...</td>\n",
       "      <td>...</td>\n",
       "      <td>...</td>\n",
       "      <td>...</td>\n",
       "      <td>...</td>\n",
       "      <td>...</td>\n",
       "      <td>...</td>\n",
       "      <td>...</td>\n",
       "      <td>...</td>\n",
       "      <td>...</td>\n",
       "      <td>...</td>\n",
       "      <td>...</td>\n",
       "      <td>...</td>\n",
       "      <td>...</td>\n",
       "      <td>...</td>\n",
       "      <td>...</td>\n",
       "      <td>...</td>\n",
       "      <td>...</td>\n",
       "      <td>...</td>\n",
       "      <td>...</td>\n",
       "    </tr>\n",
       "    <tr>\n",
       "      <th>95904</th>\n",
       "      <td>2021-12-01 09:43:25+00:00</td>\n",
       "      <td>2719014477910507865</td>\n",
       "      <td>1956663836392031039</td>\n",
       "      <td>1</td>\n",
       "      <td>134.29</td>\n",
       "      <td>12</td>\n",
       "      <td>December</td>\n",
       "      <td>2021-12</td>\n",
       "      <td>False</td>\n",
       "      <td>False</td>\n",
       "      <td>...</td>\n",
       "      <td>False</td>\n",
       "      <td>False</td>\n",
       "      <td>False</td>\n",
       "      <td>False</td>\n",
       "      <td>False</td>\n",
       "      <td>False</td>\n",
       "      <td>False</td>\n",
       "      <td>False</td>\n",
       "      <td>False</td>\n",
       "      <td>False</td>\n",
       "    </tr>\n",
       "    <tr>\n",
       "      <th>95906</th>\n",
       "      <td>2021-12-01 09:50:37+00:00</td>\n",
       "      <td>2719018098886705639</td>\n",
       "      <td>1956663830729720074</td>\n",
       "      <td>1</td>\n",
       "      <td>229.99</td>\n",
       "      <td>12</td>\n",
       "      <td>December</td>\n",
       "      <td>2021-12</td>\n",
       "      <td>False</td>\n",
       "      <td>False</td>\n",
       "      <td>...</td>\n",
       "      <td>False</td>\n",
       "      <td>False</td>\n",
       "      <td>False</td>\n",
       "      <td>False</td>\n",
       "      <td>False</td>\n",
       "      <td>False</td>\n",
       "      <td>False</td>\n",
       "      <td>False</td>\n",
       "      <td>False</td>\n",
       "      <td>False</td>\n",
       "    </tr>\n",
       "    <tr>\n",
       "      <th>95907</th>\n",
       "      <td>2021-12-01 09:52:06+00:00</td>\n",
       "      <td>2719018846999544322</td>\n",
       "      <td>1956663848219968336</td>\n",
       "      <td>1</td>\n",
       "      <td>630.00</td>\n",
       "      <td>12</td>\n",
       "      <td>December</td>\n",
       "      <td>2021-12</td>\n",
       "      <td>False</td>\n",
       "      <td>False</td>\n",
       "      <td>...</td>\n",
       "      <td>False</td>\n",
       "      <td>False</td>\n",
       "      <td>False</td>\n",
       "      <td>False</td>\n",
       "      <td>False</td>\n",
       "      <td>False</td>\n",
       "      <td>False</td>\n",
       "      <td>False</td>\n",
       "      <td>False</td>\n",
       "      <td>False</td>\n",
       "    </tr>\n",
       "    <tr>\n",
       "      <th>95908</th>\n",
       "      <td>2021-12-01 09:55:35+00:00</td>\n",
       "      <td>2719020596963836492</td>\n",
       "      <td>1835566854106513435</td>\n",
       "      <td>1</td>\n",
       "      <td>83.42</td>\n",
       "      <td>12</td>\n",
       "      <td>December</td>\n",
       "      <td>2021-12</td>\n",
       "      <td>False</td>\n",
       "      <td>False</td>\n",
       "      <td>...</td>\n",
       "      <td>False</td>\n",
       "      <td>False</td>\n",
       "      <td>False</td>\n",
       "      <td>False</td>\n",
       "      <td>False</td>\n",
       "      <td>False</td>\n",
       "      <td>False</td>\n",
       "      <td>False</td>\n",
       "      <td>False</td>\n",
       "      <td>False</td>\n",
       "    </tr>\n",
       "    <tr>\n",
       "      <th>95909</th>\n",
       "      <td>2021-12-01 09:59:07+00:00</td>\n",
       "      <td>2719022379232658075</td>\n",
       "      <td>1956663846156370429</td>\n",
       "      <td>1</td>\n",
       "      <td>97.12</td>\n",
       "      <td>12</td>\n",
       "      <td>December</td>\n",
       "      <td>2021-12</td>\n",
       "      <td>False</td>\n",
       "      <td>False</td>\n",
       "      <td>...</td>\n",
       "      <td>False</td>\n",
       "      <td>False</td>\n",
       "      <td>False</td>\n",
       "      <td>False</td>\n",
       "      <td>False</td>\n",
       "      <td>False</td>\n",
       "      <td>False</td>\n",
       "      <td>False</td>\n",
       "      <td>False</td>\n",
       "      <td>False</td>\n",
       "    </tr>\n",
       "  </tbody>\n",
       "</table>\n",
       "<p>90558 rows × 64 columns</p>\n",
       "</div>"
      ],
      "text/plain": [
       "                 Order datetime             Order ID  Purchased product ID  \\\n",
       "0     2018-12-01 17:38:31+00:00  1924899396621697920   1806829193678291446   \n",
       "1     2018-12-02 13:53:42+00:00  1925511016616034733   1842214461889315556   \n",
       "2     2018-12-02 17:44:02+00:00  1925626951238681511   1835566849434059453   \n",
       "3     2018-12-02 21:30:19+00:00  1925740842841014667   1873936840742928865   \n",
       "4     2018-12-02 22:09:34+00:00  1925760595336888995   1835566854827934449   \n",
       "...                         ...                  ...                   ...   \n",
       "95904 2021-12-01 09:43:25+00:00  2719014477910507865   1956663836392031039   \n",
       "95906 2021-12-01 09:50:37+00:00  2719018098886705639   1956663830729720074   \n",
       "95907 2021-12-01 09:52:06+00:00  2719018846999544322   1956663848219968336   \n",
       "95908 2021-12-01 09:55:35+00:00  2719020596963836492   1835566854106513435   \n",
       "95909 2021-12-01 09:59:07+00:00  2719022379232658075   1956663846156370429   \n",
       "\n",
       "       Quantity of SKU  Price in USD  Month MonthName Order Month  \\\n",
       "0                    1        212.14     12  December     2018-12   \n",
       "1                    1         54.66     12  December     2018-12   \n",
       "2                    1         88.90     12  December     2018-12   \n",
       "3                    1        417.67     12  December     2018-12   \n",
       "4                    1        102.27     12  December     2018-12   \n",
       "...                ...           ...    ...       ...         ...   \n",
       "95904                1        134.29     12  December     2021-12   \n",
       "95906                1        229.99     12  December     2021-12   \n",
       "95907                1        630.00     12  December     2021-12   \n",
       "95908                1         83.42     12  December     2021-12   \n",
       "95909                1         97.12     12  December     2021-12   \n",
       "\n",
       "       Category alias_electronics.clocks  Category alias_jewelry.bracelet  \\\n",
       "0                                  False                            False   \n",
       "1                                  False                            False   \n",
       "2                                  False                            False   \n",
       "3                                  False                            False   \n",
       "4                                  False                            False   \n",
       "...                                  ...                              ...   \n",
       "95904                              False                            False   \n",
       "95906                              False                            False   \n",
       "95907                              False                            False   \n",
       "95908                              False                            False   \n",
       "95909                              False                            False   \n",
       "\n",
       "       ...  Main gem_quartz_smoky  Main gem_rhodolite  Main gem_ruby  \\\n",
       "0      ...                  False               False          False   \n",
       "1      ...                  False               False          False   \n",
       "2      ...                  False               False          False   \n",
       "3      ...                  False               False          False   \n",
       "4      ...                  False               False          False   \n",
       "...    ...                    ...                 ...            ...   \n",
       "95904  ...                  False               False          False   \n",
       "95906  ...                  False               False          False   \n",
       "95907  ...                  False               False          False   \n",
       "95908  ...                  False               False          False   \n",
       "95909  ...                  False               False          False   \n",
       "\n",
       "       Main gem_sapphire  Main gem_sapphire_geothermal  Main gem_sitall  \\\n",
       "0                  False                         False            False   \n",
       "1                   True                         False            False   \n",
       "2                  False                         False            False   \n",
       "3                  False                         False            False   \n",
       "4                  False                         False            False   \n",
       "...                  ...                           ...              ...   \n",
       "95904              False                         False            False   \n",
       "95906              False                         False            False   \n",
       "95907              False                         False            False   \n",
       "95908              False                         False            False   \n",
       "95909              False                         False            False   \n",
       "\n",
       "       Main gem_spinel  Main gem_topaz  Main gem_tourmaline  \\\n",
       "0                False           False                False   \n",
       "1                False           False                False   \n",
       "2                False           False                False   \n",
       "3                False           False                False   \n",
       "4                False           False                False   \n",
       "...                ...             ...                  ...   \n",
       "95904            False           False                False   \n",
       "95906            False           False                False   \n",
       "95907            False           False                False   \n",
       "95908            False           False                False   \n",
       "95909            False           False                False   \n",
       "\n",
       "       Main gem_turquoise  \n",
       "0                   False  \n",
       "1                   False  \n",
       "2                   False  \n",
       "3                   False  \n",
       "4                   False  \n",
       "...                   ...  \n",
       "95904               False  \n",
       "95906               False  \n",
       "95907               False  \n",
       "95908               False  \n",
       "95909               False  \n",
       "\n",
       "[90558 rows x 64 columns]"
      ]
     },
     "execution_count": 86,
     "metadata": {},
     "output_type": "execute_result"
    }
   ],
   "source": [
    "# Encode Categorical Variables\n",
    "\n",
    "categorical_cols = [\n",
    "    'Category alias', \n",
    "    'Brand ID', \n",
    "    'Product gender', \n",
    "    'Main Color', \n",
    "    'Main metal', \n",
    "    'Main gem'\n",
    "]\n",
    "\n",
    "# Use one-hot encoding for simplicity\n",
    "data_encoded = pd.get_dummies(data, columns=categorical_cols, drop_first=True)\n",
    "data_encoded"
   ]
  },
  {
   "cell_type": "code",
   "execution_count": 87,
   "id": "cda9c2dd-d2bf-4afa-ad37-8c508c0347ee",
   "metadata": {},
   "outputs": [],
   "source": [
    "# Date-Based Features\n",
    "\n",
    "data_encoded['Order datetime'] = pd.to_datetime(data_encoded['Order datetime'])\n",
    "data_encoded['Order Month'] = data_encoded['Order datetime'].dt.month\n",
    "data_encoded['Order DayOfWeek'] = data_encoded['Order datetime'].dt.dayofweek\n"
   ]
  },
  {
   "cell_type": "code",
   "execution_count": 88,
   "id": "e5427218-d9a1-45b8-9d7d-36fcd5da7233",
   "metadata": {},
   "outputs": [],
   "source": [
    "# One-hot encode 'MonthName' to handle non-numeric values\n",
    "data_encoded = pd.get_dummies(data_encoded, columns=['MonthName'], drop_first=True)\n",
    "\n",
    "# Define X and y for modeling\n",
    "X = data_encoded.drop(columns=['Order ID', 'Purchased product ID', 'Order datetime', 'Price in USD'])\n",
    "y = data_encoded['Price in USD'].astype(float)\n",
    "\n"
   ]
  },
  {
   "cell_type": "code",
   "execution_count": null,
   "id": "87409df6-ffe8-45d4-8907-0b609872616d",
   "metadata": {},
   "outputs": [],
   "source": []
  },
  {
   "cell_type": "markdown",
   "id": "5225357f-491e-4d2c-9519-bdbaa449be63",
   "metadata": {},
   "source": [
    "### Train/Test Split"
   ]
  },
  {
   "cell_type": "code",
   "execution_count": 89,
   "id": "d83c5cd8-a9e2-4dc7-932f-34b1e69e455a",
   "metadata": {},
   "outputs": [],
   "source": [
    "from sklearn.model_selection import train_test_split\n",
    "\n",
    "X_train, X_test, y_train, y_test = train_test_split(X, y, test_size=0.2, random_state=42)\n"
   ]
  },
  {
   "cell_type": "code",
   "execution_count": null,
   "id": "e56a823c-6c13-4012-916f-3c108fd6ff45",
   "metadata": {},
   "outputs": [],
   "source": []
  },
  {
   "cell_type": "markdown",
   "id": "a2d10ced-1796-4906-a556-fd08032288d9",
   "metadata": {},
   "source": [
    "### Model Training & MLflow Logging"
   ]
  },
  {
   "cell_type": "code",
   "execution_count": 90,
   "id": "1d277e97-159c-4329-9eb9-1231b12fd2cf",
   "metadata": {},
   "outputs": [],
   "source": [
    "#!pip install mlflow\n"
   ]
  },
  {
   "cell_type": "code",
   "execution_count": 91,
   "id": "53f2e584-2c85-4c00-b922-baa37ebdb27d",
   "metadata": {},
   "outputs": [],
   "source": [
    "import mlflow\n",
    "import mlflow.sklearn\n",
    "from sklearn.ensemble import RandomForestRegressor\n",
    "from sklearn.metrics import mean_absolute_error, r2_score"
   ]
  },
  {
   "cell_type": "code",
   "execution_count": 92,
   "id": "f153885b-52cf-4cb5-a4d9-82177637aee3",
   "metadata": {},
   "outputs": [
    {
     "data": {
      "text/plain": [
       "<Experiment: artifact_location='file:///C:/Users/IfeomaAugustaAdigwe/Desktop/JewlryPriceOptimisation/notebooks/mlruns/895808028063638463', creation_time=1747651547492, experiment_id='895808028063638463', last_update_time=1747651547492, lifecycle_stage='active', name='Gemineye_Price_Optimization', tags={}>"
      ]
     },
     "execution_count": 92,
     "metadata": {},
     "output_type": "execute_result"
    }
   ],
   "source": [
    "mlflow.set_experiment(\"Gemineye_Price_Optimization\")"
   ]
  },
  {
   "cell_type": "code",
   "execution_count": 93,
   "id": "e47bc87c-f50d-444a-8e45-02b873d3095d",
   "metadata": {},
   "outputs": [],
   "source": [
    "with mlflow.start_run():\n",
    "    # Train model\n",
    "    model = RandomForestRegressor(n_estimators=100, random_state=42)\n",
    "    model.fit(X_train, y_train)"
   ]
  },
  {
   "cell_type": "code",
   "execution_count": 95,
   "id": "b50a5386-88c8-4b25-9c75-07832adeba49",
   "metadata": {},
   "outputs": [],
   "source": [
    "# Predict\n",
    "preds = model.predict(X_test)"
   ]
  },
  {
   "cell_type": "code",
   "execution_count": 96,
   "id": "62d56a6c-f8b2-4bdd-b4e8-b95dc5056c8a",
   "metadata": {},
   "outputs": [],
   "source": [
    "# Evaluate\n",
    "mae = mean_absolute_error(y_test, preds)\n",
    "r2 = r2_score(y_test, preds)"
   ]
  },
  {
   "cell_type": "code",
   "execution_count": 97,
   "id": "9a644887-c780-44d8-b42b-71824e647001",
   "metadata": {},
   "outputs": [
    {
     "name": "stderr",
     "output_type": "stream",
     "text": [
      "2025/05/20 12:21:22 WARNING mlflow.models.model: Model logged without a signature and input example. Please set `input_example` parameter when logging the model to auto infer the model signature.\n"
     ]
    },
    {
     "data": {
      "text/plain": [
       "<mlflow.models.model.ModelInfo at 0x2369e66a020>"
      ]
     },
     "execution_count": 97,
     "metadata": {},
     "output_type": "execute_result"
    }
   ],
   "source": [
    "# Log to MLflow\n",
    "mlflow.log_param(\"model_type\", \"RandomForest\")\n",
    "mlflow.log_metric(\"MAE\", mae)\n",
    "mlflow.log_metric(\"R2\", r2)\n",
    "mlflow.sklearn.log_model(model, \"model\")\n"
   ]
  },
  {
   "cell_type": "code",
   "execution_count": 98,
   "id": "8cb4c22b-e8c6-440d-8999-783450cff928",
   "metadata": {},
   "outputs": [
    {
     "name": "stdout",
     "output_type": "stream",
     "text": [
      "MAE: 159.03, R²: 0.27\n"
     ]
    }
   ],
   "source": [
    "print(f\"MAE: {mae:.2f}, R²: {r2:.2f}\")"
   ]
  },
  {
   "cell_type": "code",
   "execution_count": null,
   "id": "64d0e032-ea05-4619-9e3a-3bf35525a4c6",
   "metadata": {},
   "outputs": [],
   "source": []
  },
  {
   "cell_type": "code",
   "execution_count": null,
   "id": "da849bff-604b-4209-84dc-386f14ced761",
   "metadata": {},
   "outputs": [],
   "source": []
  },
  {
   "cell_type": "markdown",
   "id": "bd0c03f6-b8e5-467e-a258-cebf816c09e6",
   "metadata": {},
   "source": [
    "### CatBoost Regressor (CatBoostRegressor)"
   ]
  },
  {
   "cell_type": "code",
   "execution_count": null,
   "id": "2fac20e1-e382-47f2-85bf-e697b303210c",
   "metadata": {},
   "outputs": [],
   "source": [
    "!pip install catboost\n"
   ]
  },
  {
   "cell_type": "code",
   "execution_count": null,
   "id": "309fb7c3-bbea-47b2-a179-2418ba9f7d0b",
   "metadata": {},
   "outputs": [],
   "source": [
    "from catboost import CatBoostRegressor"
   ]
  },
  {
   "cell_type": "code",
   "execution_count": null,
   "id": "4c54fffc-19d7-4acd-ad60-bbb7f2845555",
   "metadata": {},
   "outputs": [],
   "source": [
    "import pandas as pd\n",
    "import matplotlib.pyplot as plt\n",
    "from sklearn.linear_model import LinearRegression\n",
    "from sklearn.ensemble import ExtraTreesRegressor\n",
    "from catboost import CatBoostRegressor\n",
    "from sklearn.metrics import mean_absolute_error, r2_score\n",
    "\n",
    "# Define models\n",
    "models = {\n",
    "    'Linear Regression': LinearRegression(),\n",
    "    'Extra Trees': ExtraTreesRegressor(n_estimators=100, random_state=42),\n",
    "    'CatBoost': CatBoostRegressor(verbose=0, random_state=42)\n",
    "}\n",
    "\n",
    "# Store results\n",
    "results = []\n",
    "\n",
    "for name, model in models.items():\n",
    "    model.fit(X_train, y_train)\n",
    "    preds = model.predict(X_test)\n",
    "    \n",
    "    mae = mean_absolute_error(y_test, preds)\n",
    "    r2 = r2_score(y_test, preds)\n",
    "    \n",
    "    results.append({'Model': name, 'MAE': mae, 'R2 Score': r2})\n",
    "    \n",
    "    # Plot predictions vs actuals\n",
    "    plt.figure(figsize=(6, 4))\n",
    "    plt.scatter(y_test, preds, alpha=0.4, edgecolors='k')\n",
    "    plt.plot([y_test.min(), y_test.max()], [y_test.min(), y_test.max()], 'r--')\n",
    "    plt.title(f'{name} - Predicted vs Actual Price')\n",
    "    plt.xlabel('Actual Price')\n",
    "    plt.ylabel('Predicted Price')\n",
    "    plt.grid(True)\n",
    "    plt.show()\n",
    "\n",
    "# Display comparison table\n",
    "results_df = pd.DataFrame(results)\n",
    "print(\"Model Performance Summary:\")\n",
    "print(results_df.sort_values(by=\"MAE\"))\n"
   ]
  }
 ],
 "metadata": {
  "kernelspec": {
   "display_name": "Python 3 (ipykernel)",
   "language": "python",
   "name": "python3"
  },
  "language_info": {
   "codemirror_mode": {
    "name": "ipython",
    "version": 3
   },
   "file_extension": ".py",
   "mimetype": "text/x-python",
   "name": "python",
   "nbconvert_exporter": "python",
   "pygments_lexer": "ipython3",
   "version": "3.10.16"
  }
 },
 "nbformat": 4,
 "nbformat_minor": 5
}
